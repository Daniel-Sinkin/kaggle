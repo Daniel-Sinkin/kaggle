{
 "cells": [
  {
   "cell_type": "code",
   "execution_count": 1,
   "metadata": {},
   "outputs": [],
   "source": [
    "import torch\n",
    "import torch.nn as nn\n",
    "import torch.functional as F\n",
    "import matplotlib.pyplot as plt\n",
    "\n",
    "import pandas as pd\n",
    "import numpy as np\n",
    "\n",
    "import numbers"
   ]
  },
  {
   "cell_type": "code",
   "execution_count": 2,
   "metadata": {},
   "outputs": [],
   "source": [
    "data: pd.DataFrame = pd.read_csv(\"./data/train.csv\", index_col=\"Id\")"
   ]
  },
  {
   "cell_type": "code",
   "execution_count": 3,
   "metadata": {},
   "outputs": [],
   "source": [
    "data_numerical = data.select_dtypes(include='number')\n",
    "selected_columns = data_numerical.columns[[1, 2, 3, 4, 5, 6, 7, 8, 9, 10, 11, 12, 13, 15, 22, 24, 26, 27, 28, 29]]\n",
    "selected_data = data_numerical[selected_columns].copy()\n",
    "selected_data.dropna(axis=1, inplace=True)"
   ]
  },
  {
   "cell_type": "code",
   "execution_count": null,
   "metadata": {},
   "outputs": [],
   "source": []
  },
  {
   "cell_type": "code",
   "execution_count": 4,
   "metadata": {},
   "outputs": [
    {
     "name": "stderr",
     "output_type": "stream",
     "text": [
      "/Users/danielsinkin/GitHub_private/kaggle/.venv/lib/python3.9/site-packages/torch/nn/modules/lazy.py:181: UserWarning: Lazy modules are a new feature under heavy development so changes to the API or functionality can happen at any moment.\n",
      "  warnings.warn('Lazy modules are a new feature under heavy development '\n"
     ]
    },
    {
     "name": "stdout",
     "output_type": "stream",
     "text": [
      "Epoch [100/22000], Loss: 1.5294\n",
      "Epoch [200/22000], Loss: 0.5968\n",
      "Epoch [300/22000], Loss: 0.2667\n",
      "Epoch [400/22000], Loss: 0.1232\n",
      "Epoch [500/22000], Loss: 0.0704\n",
      "Epoch [600/22000], Loss: 0.0472\n",
      "Epoch [700/22000], Loss: 0.0362\n",
      "Epoch [800/22000], Loss: 0.0305\n",
      "Epoch [900/22000], Loss: 0.0274\n",
      "Epoch [1000/22000], Loss: 0.0250\n",
      "Epoch [1100/22000], Loss: 0.0232\n",
      "Epoch [1200/22000], Loss: 0.0218\n",
      "Epoch [1300/22000], Loss: 0.0206\n",
      "Epoch [1400/22000], Loss: 0.0196\n",
      "Epoch [1500/22000], Loss: 0.0188\n",
      "Epoch [1600/22000], Loss: 0.0182\n",
      "Epoch [1700/22000], Loss: 0.0176\n",
      "Epoch [1800/22000], Loss: 0.0170\n",
      "Epoch [1900/22000], Loss: 0.0165\n",
      "Epoch [2000/22000], Loss: 0.0161\n",
      "Epoch [2100/22000], Loss: 0.0157\n",
      "Epoch [2200/22000], Loss: 0.0154\n",
      "Epoch [2300/22000], Loss: 0.0151\n",
      "Epoch [2400/22000], Loss: 0.0148\n",
      "Epoch [2500/22000], Loss: 0.0148\n",
      "Epoch [2600/22000], Loss: 0.0145\n",
      "Epoch [2700/22000], Loss: 0.0147\n",
      "Epoch [2800/22000], Loss: 0.0142\n",
      "Epoch [2900/22000], Loss: 0.0141\n",
      "Epoch [3000/22000], Loss: 0.0142\n",
      "Epoch [3100/22000], Loss: 0.0138\n",
      "Epoch [3200/22000], Loss: 0.0140\n",
      "Epoch [3300/22000], Loss: 0.0136\n",
      "Epoch [3400/22000], Loss: 0.0135\n",
      "Epoch [3500/22000], Loss: 0.0134\n",
      "Epoch [3600/22000], Loss: 0.0145\n",
      "Epoch [3700/22000], Loss: 0.0140\n",
      "Epoch [3800/22000], Loss: 0.0134\n",
      "Epoch [3900/22000], Loss: 0.0132\n",
      "Epoch [4000/22000], Loss: 0.0132\n",
      "Epoch [4100/22000], Loss: 0.0137\n",
      "Epoch [4200/22000], Loss: 0.0131\n",
      "Epoch [4300/22000], Loss: 0.0131\n",
      "Epoch [4400/22000], Loss: 0.0130\n",
      "Epoch [4500/22000], Loss: 0.0140\n",
      "Epoch [4600/22000], Loss: 0.0131\n",
      "Epoch [4700/22000], Loss: 0.0131\n",
      "Epoch [4800/22000], Loss: 0.0131\n",
      "Epoch [4900/22000], Loss: 0.0127\n",
      "Epoch [5000/22000], Loss: 0.0122\n",
      "Epoch [5100/22000], Loss: 0.0129\n",
      "Epoch [5200/22000], Loss: 0.0124\n",
      "Epoch [5300/22000], Loss: 0.0143\n",
      "Epoch [5400/22000], Loss: 0.0129\n",
      "Epoch [5500/22000], Loss: 0.0122\n",
      "Epoch [5600/22000], Loss: 0.0120\n",
      "Epoch [5700/22000], Loss: 0.0142\n",
      "Epoch [5800/22000], Loss: 0.0119\n",
      "Epoch [5900/22000], Loss: 0.0151\n",
      "Epoch [6000/22000], Loss: 0.0154\n",
      "Epoch [6100/22000], Loss: 0.0119\n",
      "Epoch [6200/22000], Loss: 0.0127\n",
      "Epoch [6300/22000], Loss: 0.0152\n",
      "Epoch [6400/22000], Loss: 0.0124\n",
      "Epoch [6500/22000], Loss: 0.0124\n",
      "Epoch [6600/22000], Loss: 0.0124\n",
      "Epoch [6700/22000], Loss: 0.0117\n",
      "Epoch [6800/22000], Loss: 0.0129\n",
      "Epoch [6900/22000], Loss: 0.0125\n",
      "Epoch [7000/22000], Loss: 0.0119\n",
      "Epoch [7100/22000], Loss: 0.0143\n",
      "Epoch [7200/22000], Loss: 0.0144\n",
      "Epoch [7300/22000], Loss: 0.0117\n",
      "Epoch [7400/22000], Loss: 0.0120\n",
      "Epoch [7500/22000], Loss: 0.0119\n",
      "Epoch [7600/22000], Loss: 0.0125\n",
      "Epoch [7700/22000], Loss: 0.0117\n",
      "Epoch [7800/22000], Loss: 0.0117\n",
      "Epoch [7900/22000], Loss: 0.0119\n",
      "Epoch [8000/22000], Loss: 0.0117\n",
      "Epoch [8100/22000], Loss: 0.0122\n",
      "Epoch [8200/22000], Loss: 0.0141\n",
      "Epoch [8300/22000], Loss: 0.0118\n",
      "Epoch [8400/22000], Loss: 0.0121\n",
      "Epoch [8500/22000], Loss: 0.0114\n",
      "Epoch [8600/22000], Loss: 0.0142\n",
      "Epoch [8700/22000], Loss: 0.0133\n",
      "Epoch [8800/22000], Loss: 0.0118\n",
      "Epoch [8900/22000], Loss: 0.0159\n",
      "Epoch [9000/22000], Loss: 0.0114\n",
      "Epoch [9100/22000], Loss: 0.0124\n",
      "Epoch [9200/22000], Loss: 0.0116\n",
      "Epoch [9300/22000], Loss: 0.0119\n",
      "Epoch [9400/22000], Loss: 0.0167\n",
      "Epoch [9500/22000], Loss: 0.0133\n",
      "Epoch [9600/22000], Loss: 0.0112\n",
      "Epoch [9700/22000], Loss: 0.0119\n",
      "Epoch [9800/22000], Loss: 0.0139\n",
      "Epoch [9900/22000], Loss: 0.0120\n",
      "Epoch [10000/22000], Loss: 0.0146\n",
      "Epoch [10100/22000], Loss: 0.0121\n",
      "Epoch [10200/22000], Loss: 0.0115\n",
      "Epoch [10300/22000], Loss: 0.0113\n",
      "Epoch [10400/22000], Loss: 0.0118\n",
      "Epoch [10500/22000], Loss: 0.0112\n",
      "Epoch [10600/22000], Loss: 0.0147\n",
      "Epoch [10700/22000], Loss: 0.0120\n",
      "Epoch [10800/22000], Loss: 0.0124\n",
      "Epoch [10900/22000], Loss: 0.0116\n",
      "Epoch [11000/22000], Loss: 0.0114\n",
      "Epoch [11100/22000], Loss: 0.0120\n",
      "Epoch [11200/22000], Loss: 0.0125\n",
      "Epoch [11300/22000], Loss: 0.0114\n",
      "Epoch [11400/22000], Loss: 0.0123\n",
      "Epoch [11500/22000], Loss: 0.0112\n",
      "Epoch [11600/22000], Loss: 0.0123\n",
      "Epoch [11700/22000], Loss: 0.0122\n",
      "Epoch [11800/22000], Loss: 0.0136\n",
      "Epoch [11900/22000], Loss: 0.0119\n",
      "Epoch [12000/22000], Loss: 0.0140\n",
      "Epoch [12100/22000], Loss: 0.0113\n",
      "Epoch [12200/22000], Loss: 0.0117\n",
      "Epoch [12300/22000], Loss: 0.0141\n",
      "Epoch [12400/22000], Loss: 0.0120\n",
      "Epoch [12500/22000], Loss: 0.0113\n",
      "Epoch [12600/22000], Loss: 0.0112\n",
      "Epoch [12700/22000], Loss: 0.0112\n",
      "Epoch [12800/22000], Loss: 0.0119\n",
      "Epoch [12900/22000], Loss: 0.0112\n",
      "Epoch [13000/22000], Loss: 0.0130\n",
      "Epoch [13100/22000], Loss: 0.0122\n",
      "Epoch [13200/22000], Loss: 0.0112\n",
      "Epoch [13300/22000], Loss: 0.0123\n",
      "Epoch [13400/22000], Loss: 0.0147\n",
      "Epoch [13500/22000], Loss: 0.0113\n",
      "Epoch [13600/22000], Loss: 0.0113\n",
      "Epoch [13700/22000], Loss: 0.0133\n",
      "Epoch [13800/22000], Loss: 0.0115\n",
      "Epoch [13900/22000], Loss: 0.0115\n",
      "Epoch [14000/22000], Loss: 0.0141\n",
      "Epoch [14100/22000], Loss: 0.0113\n",
      "Epoch [14200/22000], Loss: 0.0111\n",
      "Epoch [14300/22000], Loss: 0.0112\n",
      "Epoch [14400/22000], Loss: 0.0128\n",
      "Epoch [14500/22000], Loss: 0.0114\n",
      "Epoch [14600/22000], Loss: 0.0115\n",
      "Epoch [14700/22000], Loss: 0.0111\n",
      "Epoch [14800/22000], Loss: 0.0126\n",
      "Epoch [14900/22000], Loss: 0.0113\n",
      "Epoch [15000/22000], Loss: 0.0163\n",
      "Epoch [15100/22000], Loss: 0.0158\n",
      "Epoch [15200/22000], Loss: 0.0113\n",
      "Epoch [15300/22000], Loss: 0.0115\n",
      "Epoch [15400/22000], Loss: 0.0136\n",
      "Epoch [15500/22000], Loss: 0.0136\n",
      "Epoch [15600/22000], Loss: 0.0112\n",
      "Epoch [15700/22000], Loss: 0.0116\n",
      "Epoch [15800/22000], Loss: 0.0124\n",
      "Epoch [15900/22000], Loss: 0.0127\n",
      "Epoch [16000/22000], Loss: 0.0122\n",
      "Epoch [16100/22000], Loss: 0.0136\n",
      "Epoch [16200/22000], Loss: 0.0112\n",
      "Epoch [16300/22000], Loss: 0.0122\n",
      "Epoch [16400/22000], Loss: 0.0116\n",
      "Epoch [16500/22000], Loss: 0.0115\n",
      "Epoch [16600/22000], Loss: 0.0147\n",
      "Epoch [16700/22000], Loss: 0.0132\n",
      "Epoch [16800/22000], Loss: 0.0113\n",
      "Epoch [16900/22000], Loss: 0.0119\n",
      "Epoch [17000/22000], Loss: 0.0123\n",
      "Epoch [17100/22000], Loss: 0.0118\n",
      "Epoch [17200/22000], Loss: 0.0119\n",
      "Epoch [17300/22000], Loss: 0.0116\n",
      "Epoch [17400/22000], Loss: 0.0113\n",
      "Epoch [17500/22000], Loss: 0.0112\n",
      "Epoch [17600/22000], Loss: 0.0114\n",
      "Epoch [17700/22000], Loss: 0.0115\n",
      "Epoch [17800/22000], Loss: 0.0111\n",
      "Epoch [17900/22000], Loss: 0.0116\n",
      "Epoch [18000/22000], Loss: 0.0117\n",
      "Epoch [18100/22000], Loss: 0.0111\n",
      "Epoch [18200/22000], Loss: 0.0120\n",
      "Epoch [18300/22000], Loss: 0.0122\n",
      "Epoch [18400/22000], Loss: 0.0130\n",
      "Epoch [18500/22000], Loss: 0.0120\n",
      "Epoch [18600/22000], Loss: 0.0120\n",
      "Epoch [18700/22000], Loss: 0.0116\n",
      "Epoch [18800/22000], Loss: 0.0127\n",
      "Epoch [18900/22000], Loss: 0.0114\n",
      "Epoch [19000/22000], Loss: 0.0113\n",
      "Epoch [19100/22000], Loss: 0.0115\n",
      "Epoch [19200/22000], Loss: 0.0115\n",
      "Epoch [19300/22000], Loss: 0.0144\n",
      "Epoch [19400/22000], Loss: 0.0112\n",
      "Epoch [19500/22000], Loss: 0.0127\n",
      "Epoch [19600/22000], Loss: 0.0142\n",
      "Epoch [19700/22000], Loss: 0.0112\n",
      "Epoch [19800/22000], Loss: 0.0117\n",
      "Epoch [19900/22000], Loss: 0.0117\n",
      "Epoch [20000/22000], Loss: 0.0121\n",
      "Epoch [20100/22000], Loss: 0.0111\n",
      "Epoch [20200/22000], Loss: 0.0112\n",
      "Epoch [20300/22000], Loss: 0.0111\n",
      "Epoch [20400/22000], Loss: 0.0119\n",
      "Epoch [20500/22000], Loss: 0.0126\n",
      "Epoch [20600/22000], Loss: 0.0123\n",
      "Epoch [20700/22000], Loss: 0.0131\n",
      "Epoch [20800/22000], Loss: 0.0114\n",
      "Epoch [20900/22000], Loss: 0.0114\n",
      "Epoch [21000/22000], Loss: 0.0118\n",
      "Epoch [21100/22000], Loss: 0.0123\n",
      "Epoch [21200/22000], Loss: 0.0117\n",
      "Epoch [21300/22000], Loss: 0.0114\n",
      "Epoch [21400/22000], Loss: 0.0127\n",
      "Epoch [21500/22000], Loss: 0.0120\n",
      "Epoch [21600/22000], Loss: 0.0112\n",
      "Epoch [21700/22000], Loss: 0.0132\n",
      "Epoch [21800/22000], Loss: 0.0126\n",
      "Epoch [21900/22000], Loss: 0.0111\n",
      "Epoch [22000/22000], Loss: 0.0123\n",
      "Training finished.\n"
     ]
    }
   ],
   "source": [
    "data_ = torch.tensor(selected_data.values.astype(np.float32))\n",
    "\n",
    "mean = torch.mean(data_, dim=0)\n",
    "std = torch.std(data_, dim=0)\n",
    "std[std == 0] = 1\n",
    "\n",
    "data_normalized = (data_ - mean) / std\n",
    "\n",
    "X = data_normalized.requires_grad_(True)\n",
    "y = torch.tensor(data[\"SalePrice\"].values.astype(np.float32)).log()\n",
    "\n",
    "my_module = nn.Sequential(\n",
    "    nn.LazyLinear(20),\n",
    "    nn.ReLU(),\n",
    "    nn.LazyLinear(15),\n",
    "    nn.ReLU(),\n",
    "    nn.LazyLinear(1)\n",
    ")\n",
    "\n",
    "# Set up the optimizer and loss function\n",
    "optimizer = torch.optim.Adam(my_module.parameters(), lr=0.01)\n",
    "loss_fn = nn.MSELoss()\n",
    "\n",
    "# Training loop\n",
    "losses = []\n",
    "num_epochs = 22000\n",
    "for epoch in range(num_epochs):\n",
    "    # Forward pass\n",
    "    outputs = my_module(X)\n",
    "    loss = loss_fn(outputs, y.view(-1, 1))\n",
    "    losses.append(loss.item())\n",
    "\n",
    "    # Backward pass and optimization\n",
    "    optimizer.zero_grad()\n",
    "    loss.backward()\n",
    "    optimizer.step()\n",
    "\n",
    "    # Print intermediate results\n",
    "    if (epoch+1) % 100 == 0:\n",
    "        print(f'Epoch [{epoch+1}/{num_epochs}], Loss: {loss.item():.4f}')\n",
    "\n",
    "print('Training finished.')"
   ]
  },
  {
   "cell_type": "code",
   "execution_count": 5,
   "metadata": {},
   "outputs": [
    {
     "data": {
      "text/plain": [
       "[<matplotlib.lines.Line2D at 0x16c43bbb0>]"
      ]
     },
     "execution_count": 5,
     "metadata": {},
     "output_type": "execute_result"
    },
    {
     "data": {
      "image/png": "[encoded data removed]",
      "text/plain": [
       "<Figure size 640x480 with 1 Axes>"
      ]
     },
     "metadata": {},
     "output_type": "display_data"
    }
   ],
   "source": [
    "plt.plot(range(500, len(losses[500:]) + 500), losses[500:])"
   ]
  },
  {
   "cell_type": "code",
   "execution_count": 6,
   "metadata": {},
   "outputs": [
    {
     "data": {
      "text/plain": [
       "torch.Size([1460, 17])"
      ]
     },
     "execution_count": 6,
     "metadata": {},
     "output_type": "execute_result"
    }
   ],
   "source": [
    "X.shape"
   ]
  },
  {
   "cell_type": "code",
   "execution_count": 9,
   "metadata": {},
   "outputs": [],
   "source": [
    "test_data: pd.DataFrame = pd.read_csv(\"./data/test.csv\", index_col=\"Id\")"
   ]
  },
  {
   "cell_type": "code",
   "execution_count": 12,
   "metadata": {},
   "outputs": [
    {
     "data": {
      "text/plain": [
       "Index(['MSSubClass', 'MSZoning', 'LotFrontage', 'LotArea', 'Street', 'Alley',\n",
       "       'LotShape', 'LandContour', 'Utilities', 'LotConfig', 'LandSlope',\n",
       "       'Neighborhood', 'Condition1', 'Condition2', 'BldgType', 'HouseStyle',\n",
       "       'OverallQual', 'OverallCond', 'YearBuilt', 'YearRemodAdd', 'RoofStyle',\n",
       "       'RoofMatl', 'Exterior1st', 'Exterior2nd', 'MasVnrType', 'MasVnrArea',\n",
       "       'ExterQual', 'ExterCond', 'Foundation', 'BsmtQual', 'BsmtCond',\n",
       "       'BsmtExposure', 'BsmtFinType1', 'BsmtFinSF1', 'BsmtFinType2',\n",
       "       'BsmtFinSF2', 'BsmtUnfSF', 'TotalBsmtSF', 'Heating', 'HeatingQC',\n",
       "       'CentralAir', 'Electrical', '1stFlrSF', '2ndFlrSF', 'LowQualFinSF',\n",
       "       'GrLivArea', 'BsmtFullBath', 'BsmtHalfBath', 'FullBath', 'HalfBath',\n",
       "       'BedroomAbvGr', 'KitchenAbvGr', 'KitchenQual', 'TotRmsAbvGrd',\n",
       "       'Functional', 'Fireplaces', 'FireplaceQu', 'GarageType', 'GarageYrBlt',\n",
       "       'GarageFinish', 'GarageCars', 'GarageArea', 'GarageQual', 'GarageCond',\n",
       "       'PavedDrive', 'WoodDeckSF', 'OpenPorchSF', 'EnclosedPorch', '3SsnPorch',\n",
       "       'ScreenPorch', 'PoolArea', 'PoolQC', 'Fence', 'MiscFeature', 'MiscVal',\n",
       "       'MoSold', 'YrSold', 'SaleType', 'SaleCondition', 'SalePrice'],\n",
       "      dtype='object')"
      ]
     },
     "execution_count": 12,
     "metadata": {},
     "output_type": "execute_result"
    }
   ],
   "source": [
    "data.columns"
   ]
  },
  {
   "cell_type": "code",
   "execution_count": 36,
   "metadata": {},
   "outputs": [],
   "source": [
    "data_test = test_data[[c for c in selected_data.columns if c != \"SalePrice\"]].copy()\n",
    "data_test_tensor = torch.tensor(data_test.values.astype(np.float32))\n",
    "\n",
    "data_test_normalized = (data_test_tensor - data_test_tensor.mean()) / data_test_tensor.std()"
   ]
  },
  {
   "cell_type": "code",
   "execution_count": 62,
   "metadata": {},
   "outputs": [],
   "source": [
    "import numpy as np\n",
    "import torch\n",
    "\n",
    "# Assuming 'test_data' and 'selected_data' are already defined\n",
    "data_test = test_data[[c for c in selected_data.columns if c != \"SalePrice\"]].copy()\n",
    "\n",
    "# Fill NaN values with the mean of each column\n",
    "data_test.fillna(data_test.mean(), inplace=True)\n",
    "\n",
    "# Convert the DataFrame to a PyTorch tensor\n",
    "data_test_tensor = torch.tensor(data_test.values.astype(np.float32))\n",
    "\n",
    "# Normalize the tensor\n",
    "mean = data_test_tensor.mean(dim=0)\n",
    "std = data_test_tensor.std(dim=0)\n",
    "data_test_normalized = (data_test_tensor - mean) / std\n",
    "\n",
    "# Ensure no NaN entries in the normalized data\n",
    "assert not torch.isnan(data_test_normalized).any(), \"There are NaNs in the normalized data\""
   ]
  },
  {
   "cell_type": "code",
   "execution_count": null,
   "metadata": {},
   "outputs": [],
   "source": []
  },
  {
   "cell_type": "code",
   "execution_count": 73,
   "metadata": {},
   "outputs": [],
   "source": [
    "data_test[\"SalePrice\"] = my_module(data_test_normalized.detach()).detach().exp()"
   ]
  },
  {
   "cell_type": "code",
   "execution_count": 81,
   "metadata": {},
   "outputs": [],
   "source": [
    "data_submission = data_test.reset_index().copy()"
   ]
  },
  {
   "cell_type": "code",
   "execution_count": 87,
   "metadata": {},
   "outputs": [
    {
     "name": "stdout",
     "output_type": "stream",
     "text": [
      "None\n"
     ]
    }
   ],
   "source": [
    "print(data_submission[[\"Id\", \"SalePrice\"]].to_csv(\"submission.csv\", index=False))"
   ]
  },
  {
   "cell_type": "code",
   "execution_count": null,
   "metadata": {},
   "outputs": [],
   "source": []
  }
 ],
 "metadata": {
  "kernelspec": {
   "display_name": ".venv",
   "language": "python",
   "name": "python3"
  },
  "language_info": {
   "codemirror_mode": {
    "name": "ipython",
    "version": 3
   },
   "file_extension": ".py",
   "mimetype": "text/x-python",
   "name": "python",
   "nbconvert_exporter": "python",
   "pygments_lexer": "ipython3",
   "version": "3.9.6"
  }
 },
 "nbformat": 4,
 "nbformat_minor": 2
}
