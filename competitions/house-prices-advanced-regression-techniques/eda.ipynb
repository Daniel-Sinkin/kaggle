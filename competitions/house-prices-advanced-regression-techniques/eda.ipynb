{
 "cells": [
  {
   "cell_type": "code",
   "execution_count": null,
   "metadata": {},
   "outputs": [],
   "source": [
    "import torch\n",
    "import torch.nn as nn\n",
    "import torch.functional as F\n",
    "import matplotlib.pyplot as plt\n",
    "\n",
    "import pandas as pd\n",
    "import numpy as np\n",
    "\n",
    "import numbers"
   ]
  },
  {
   "cell_type": "code",
   "execution_count": null,
   "metadata": {},
   "outputs": [],
   "source": [
    "data: pd.DataFrame = pd.read_csv(\"./data/train.csv\", index_col=\"Id\")"
   ]
  },
  {
   "cell_type": "code",
   "execution_count": null,
   "metadata": {},
   "outputs": [],
   "source": [
    "data_numerical = data.select_dtypes(include='number')\n",
    "selected_columns = data_numerical.columns[[1, 2, 3, 4, 5, 6, 7, 8, 9, 10, 11, 12, 13, 15, 22, 24, 26, 27, 28, 29]]\n",
    "selected_data = data_numerical[selected_columns].copy()\n",
    "selected_data.dropna(axis=1, inplace=True)"
   ]
  },
  {
   "cell_type": "code",
   "execution_count": null,
   "metadata": {},
   "outputs": [],
   "source": []
  },
  {
   "cell_type": "code",
   "execution_count": null,
   "metadata": {},
   "outputs": [],
   "source": [
    "data_ = torch.tensor(selected_data.values.astype(np.float32))\n",
    "\n",
    "mean = torch.mean(data_, dim=0)\n",
    "std = torch.std(data_, dim=0)\n",
    "std[std == 0] = 1\n",
    "\n",
    "data_normalized = (data_ - mean) / std\n",
    "\n",
    "X = data_normalized.requires_grad_(True)\n",
    "y = torch.tensor(data[\"SalePrice\"].values.astype(np.float32)).log()\n",
    "\n",
    "my_module = nn.Sequential(\n",
    "    nn.LazyLinear(20),\n",
    "    nn.ReLU(),\n",
    "    nn.LazyLinear(15),\n",
    "    nn.ReLU(),\n",
    "    nn.LazyLinear(1)\n",
    ")\n",
    "\n",
    "# Set up the optimizer and loss function\n",
    "optimizer = torch.optim.Adam(my_module.parameters(), lr=0.01)\n",
    "loss_fn = nn.MSELoss()\n",
    "\n",
    "# Training loop\n",
    "losses = []\n",
    "num_epochs = 22000\n",
    "for epoch in range(num_epochs):\n",
    "    # Forward pass\n",
    "    outputs = my_module(X)\n",
    "    loss = loss_fn(outputs, y.view(-1, 1))\n",
    "    losses.append(loss.item())\n",
    "\n",
    "    # Backward pass and optimization\n",
    "    optimizer.zero_grad()\n",
    "    loss.backward()\n",
    "    optimizer.step()\n",
    "\n",
    "    # Print intermediate results\n",
    "    if (epoch+1) % 100 == 0:\n",
    "        print(f'Epoch [{epoch+1}/{num_epochs}], Loss: {loss.item():.4f}')\n",
    "\n",
    "print('Training finished.')"
   ]
  },
  {
   "cell_type": "code",
   "execution_count": null,
   "metadata": {},
   "outputs": [],
   "source": [
    "plt.plot(range(500, len(losses[500:]) + 500), losses[500:])"
   ]
  },
  {
   "cell_type": "code",
   "execution_count": null,
   "metadata": {},
   "outputs": [],
   "source": [
    "X.shape"
   ]
  },
  {
   "cell_type": "code",
   "execution_count": null,
   "metadata": {},
   "outputs": [],
   "source": [
    "test_data: pd.DataFrame = pd.read_csv(\"./data/test.csv\", index_col=\"Id\")"
   ]
  },
  {
   "cell_type": "code",
   "execution_count": null,
   "metadata": {},
   "outputs": [],
   "source": [
    "data.columns"
   ]
  },
  {
   "cell_type": "code",
   "execution_count": null,
   "metadata": {},
   "outputs": [],
   "source": [
    "data_test = test_data[[c for c in selected_data.columns if c != \"SalePrice\"]].copy()\n",
    "data_test_tensor = torch.tensor(data_test.values.astype(np.float32))\n",
    "\n",
    "data_test_normalized = (data_test_tensor - data_test_tensor.mean()) / data_test_tensor.std()"
   ]
  },
  {
   "cell_type": "code",
   "execution_count": null,
   "metadata": {},
   "outputs": [],
   "source": [
    "import numpy as np\n",
    "import torch\n",
    "\n",
    "# Assuming 'test_data' and 'selected_data' are already defined\n",
    "data_test = test_data[[c for c in selected_data.columns if c != \"SalePrice\"]].copy()\n",
    "\n",
    "# Fill NaN values with the mean of each column\n",
    "data_test.fillna(data_test.mean(), inplace=True)\n",
    "\n",
    "# Convert the DataFrame to a PyTorch tensor\n",
    "data_test_tensor = torch.tensor(data_test.values.astype(np.float32))\n",
    "\n",
    "# Normalize the tensor\n",
    "mean = data_test_tensor.mean(dim=0)\n",
    "std = data_test_tensor.std(dim=0)\n",
    "data_test_normalized = (data_test_tensor - mean) / std\n",
    "\n",
    "# Ensure no NaN entries in the normalized data\n",
    "assert not torch.isnan(data_test_normalized).any(), \"There are NaNs in the normalized data\""
   ]
  },
  {
   "cell_type": "code",
   "execution_count": null,
   "metadata": {},
   "outputs": [],
   "source": []
  },
  {
   "cell_type": "code",
   "execution_count": null,
   "metadata": {},
   "outputs": [],
   "source": [
    "data_test[\"SalePrice\"] = my_module(data_test_normalized.detach()).detach().exp()"
   ]
  },
  {
   "cell_type": "code",
   "execution_count": null,
   "metadata": {},
   "outputs": [],
   "source": [
    "data_submission = data_test.reset_index().copy()"
   ]
  },
  {
   "cell_type": "code",
   "execution_count": null,
   "metadata": {},
   "outputs": [],
   "source": [
    "print(data_submission[[\"Id\", \"SalePrice\"]].to_csv(\"submission.csv\", index=False))"
   ]
  },
  {
   "cell_type": "code",
   "execution_count": null,
   "metadata": {},
   "outputs": [],
   "source": [
    "data"
   ]
  },
  {
   "cell_type": "code",
   "execution_count": null,
   "metadata": {},
   "outputs": [],
   "source": []
  }
 ],
 "metadata": {
  "kernelspec": {
   "display_name": ".venv",
   "language": "python",
   "name": "python3"
  },
  "language_info": {
   "codemirror_mode": {
    "name": "ipython",
    "version": 3
   },
   "file_extension": ".py",
   "mimetype": "text/x-python",
   "name": "python",
   "nbconvert_exporter": "python",
   "pygments_lexer": "ipython3",
   "version": "3.9.6"
  }
 },
 "nbformat": 4,
 "nbformat_minor": 2
}
